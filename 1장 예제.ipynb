{
 "cells": [
  {
   "cell_type": "code",
   "execution_count": 3,
   "metadata": {},
   "outputs": [],
   "source": [
    "import pandas as pd\n"
   ]
  },
  {
   "cell_type": "code",
   "execution_count": 4,
   "metadata": {},
   "outputs": [
    {
     "name": "stdout",
     "output_type": "stream",
     "text": [
      "<class 'pandas.core.series.Series'>\n",
      "a    1\n",
      "b    2\n",
      "c    3\n",
      "dtype: int64\n"
     ]
    }
   ],
   "source": [
    "dict_data = {'a':1,'b':2,'c':3}\n",
    "sr = pd.Series(dict_data)\n",
    "print(type(sr))\n",
    "print(sr)"
   ]
  },
  {
   "cell_type": "code",
   "execution_count": 5,
   "metadata": {},
   "outputs": [
    {
     "name": "stdout",
     "output_type": "stream",
     "text": [
      "<class 'pandas.core.series.Series'>\n",
      "0    2019-01-01\n",
      "1          3.14\n",
      "2           asd\n",
      "3           115\n",
      "4          True\n",
      "dtype: object\n"
     ]
    }
   ],
   "source": [
    "list_data = ['2019-01-01',3.14,'asd',115,True]\n",
    "sr = pd.Series(list_data)\n",
    "print(type(sr))\n",
    "print(sr)"
   ]
  },
  {
   "cell_type": "code",
   "execution_count": 6,
   "metadata": {},
   "outputs": [
    {
     "name": "stdout",
     "output_type": "stream",
     "text": [
      "RangeIndex(start=0, stop=5, step=1)\n",
      "['2019-01-01' 3.14 'asd' 115 True]\n"
     ]
    }
   ],
   "source": [
    "idx = sr.index\n",
    "val = sr.values\n",
    "print(idx)\n",
    "print(val)\n"
   ]
  },
  {
   "cell_type": "code",
   "execution_count": 7,
   "metadata": {},
   "outputs": [
    {
     "name": "stdout",
     "output_type": "stream",
     "text": [
      "<class 'pandas.core.series.Series'>\n",
      "name               가나\n",
      "birth      2020-22-22\n",
      "gender              여\n",
      "student          True\n",
      "dtype: object\n"
     ]
    }
   ],
   "source": [
    "tup_data = ('가나','2020-22-22','여',True)\n",
    "sr = pd.Series(tup_data,index =['name','birth','gender','student'])\n",
    "print(type(sr))\n",
    "print(sr)"
   ]
  },
  {
   "cell_type": "code",
   "execution_count": 8,
   "metadata": {},
   "outputs": [
    {
     "name": "stdout",
     "output_type": "stream",
     "text": [
      "가나\n",
      "가나\n"
     ]
    }
   ],
   "source": [
    "print(sr[0])\n",
    "print(sr['name'])"
   ]
  },
  {
   "cell_type": "code",
   "execution_count": 9,
   "metadata": {},
   "outputs": [
    {
     "name": "stdout",
     "output_type": "stream",
     "text": [
      "birth     2020-22-22\n",
      "gender             여\n",
      "dtype: object\n",
      "birth     2020-22-22\n",
      "gender             여\n",
      "dtype: object\n"
     ]
    }
   ],
   "source": [
    "print(sr[[1,2]])\n",
    "print(sr[['birth','gender']])\n"
   ]
  },
  {
   "cell_type": "code",
   "execution_count": 10,
   "metadata": {},
   "outputs": [
    {
     "name": "stdout",
     "output_type": "stream",
     "text": [
      "birth    2020-22-22\n",
      "dtype: object\n",
      "birth     2020-22-22\n",
      "gender             여\n",
      "dtype: object\n"
     ]
    }
   ],
   "source": [
    "print(sr[1:2])\n",
    "print(sr['birth':'gender'])"
   ]
  },
  {
   "cell_type": "code",
   "execution_count": 11,
   "metadata": {},
   "outputs": [
    {
     "name": "stdout",
     "output_type": "stream",
     "text": [
      "<class 'pandas.core.frame.DataFrame'>\n",
      "   c0  c1  c2  c3  c4\n",
      "0   1   4   7  10  13\n",
      "1   2   5   8  11  14\n",
      "2   3   6   9  12  15\n"
     ]
    }
   ],
   "source": [
    "dict_data = {'c0':[1,2,3],'c1':[4,5,6],'c2':[7,8,9],'c3':[10,11,12],'c4':[13,14,15]}\n",
    "df = pd.DataFrame(dict_data)\n",
    "print(type(df))\n",
    "print(df)"
   ]
  },
  {
   "cell_type": "code",
   "execution_count": 12,
   "metadata": {},
   "outputs": [
    {
     "name": "stdout",
     "output_type": "stream",
     "text": [
      "     age gender school\n",
      "jun   15      m    mid\n",
      "ye    17      w   high\n",
      "Index(['jun', 'ye'], dtype='object')\n",
      "Index(['age', 'gender', 'school'], dtype='object')\n"
     ]
    }
   ],
   "source": [
    "df = pd.DataFrame([[15,'m','mid'],[17,'w','high']],index =['jun','ye'],columns=['age','gender','school'])\n",
    "print(df)\n",
    "print(df.index)\n",
    "print(df.columns)"
   ]
  },
  {
   "cell_type": "code",
   "execution_count": 13,
   "metadata": {},
   "outputs": [
    {
     "name": "stdout",
     "output_type": "stream",
     "text": [
      "      agee gg    ss\n",
      "stu1    15  m   mid\n",
      "stu2    17  w  high\n",
      "Index(['stu1', 'stu2'], dtype='object')\n",
      "Index(['agee', 'gg', 'ss'], dtype='object')\n"
     ]
    }
   ],
   "source": [
    "df.index=['stu1','stu2']\n",
    "df.columns = ['agee','gg','ss']\n",
    "print(df)\n",
    "print(df.index)\n",
    "print(df.columns)"
   ]
  },
  {
   "cell_type": "code",
   "execution_count": 14,
   "metadata": {},
   "outputs": [
    {
     "name": "stdout",
     "output_type": "stream",
     "text": [
      "     age gender school\n",
      "jun   15      m    mid\n",
      "ye    17      w   high\n",
      "Index(['stu1', 'stu2'], dtype='object')\n",
      "Index(['old', 'sex', 'class'], dtype='object')\n"
     ]
    }
   ],
   "source": [
    "df = pd.DataFrame([[15,'m','mid'],[17,'w','high']],index =['jun','ye'],columns=['age','gender','school'])\n",
    "print(df)\n",
    "df.rename(columns={'age':'old','gender':'sex','school':'class'},inplace=True)\n",
    "df.rename(index={'jun':'stu1','ye':'stu2'},inplace=True)\n",
    "print(df.index)\n",
    "print(df.columns)"
   ]
  },
  {
   "cell_type": "code",
   "execution_count": 15,
   "metadata": {},
   "outputs": [
    {
     "name": "stdout",
     "output_type": "stream",
     "text": [
      "     math  eng  music   PE\n",
      "seo    90   88     99  100\n",
      "woo    80   54     42   88\n",
      "in     87   64     34   55\n",
      "     math  eng  music   PE\n",
      "seo    90   88     99  100\n",
      "in     87   64     34   55\n",
      "     math  eng  music   PE\n",
      "seo    90   88     99  100\n"
     ]
    },
    {
     "name": "stderr",
     "output_type": "stream",
     "text": [
      "C:\\Users\\pc\\Anaconda3\\lib\\site-packages\\pandas\\core\\frame.py:3940: SettingWithCopyWarning: \n",
      "A value is trying to be set on a copy of a slice from a DataFrame\n",
      "\n",
      "See the caveats in the documentation: http://pandas.pydata.org/pandas-docs/stable/indexing.html#indexing-view-versus-copy\n",
      "  errors=errors)\n"
     ]
    }
   ],
   "source": [
    "exam_data={'math':[90,80,87],'eng':[88,54,64],'music':[99,42,34],'PE':[100,88,55]}\n",
    "df= pd.DataFrame(exam_data,index=['seo','woo','in'])\n",
    "print(df)\n",
    "df2=df[:]\n",
    "df2.drop('woo',inplace=True)\n",
    "print(df2)\n",
    "df3=df[:]\n",
    "df3.drop(['woo','in'],axis = 0,inplace=True)\n",
    "print(df3)"
   ]
  },
  {
   "cell_type": "code",
   "execution_count": 16,
   "metadata": {},
   "outputs": [
    {
     "name": "stdout",
     "output_type": "stream",
     "text": [
      "     math  eng  music   PE\n",
      "seo    90   88     99  100\n",
      "woo    80   54     42   88\n",
      "in     87   64     34   55\n",
      "     eng  music   PE\n",
      "seo   88     99  100\n",
      "woo   54     42   88\n",
      "in    64     34   55\n",
      "     math   PE\n",
      "seo    90  100\n",
      "woo    80   88\n",
      "in     87   55\n"
     ]
    }
   ],
   "source": [
    "exam_data={'math':[90,80,87],'eng':[88,54,64],'music':[99,42,34],'PE':[100,88,55]}\n",
    "df= pd.DataFrame(exam_data,index=['seo','woo','in'])\n",
    "print(df)\n",
    "df4=df[:]\n",
    "df4.drop('math',axis=1,inplace=True)\n",
    "print(df4)\n",
    "df5=df[:]\n",
    "df5.drop(['eng','music'],axis=1,inplace=True)\n",
    "print(df5)"
   ]
  },
  {
   "cell_type": "code",
   "execution_count": 17,
   "metadata": {},
   "outputs": [
    {
     "name": "stdout",
     "output_type": "stream",
     "text": [
      "     math  eng  music   PE\n",
      "seo    90   88     99  100\n",
      "woo    80   54     42   88\n",
      "in     87   64     34   55\n",
      "math      90\n",
      "eng       88\n",
      "music     99\n",
      "PE       100\n",
      "Name: seo, dtype: int64\n",
      "math      90\n",
      "eng       88\n",
      "music     99\n",
      "PE       100\n",
      "Name: seo, dtype: int64\n"
     ]
    }
   ],
   "source": [
    "exam_data={'math':[90,80,87],'eng':[88,54,64],'music':[99,42,34],'PE':[100,88,55]}\n",
    "df= pd.DataFrame(exam_data,index=['seo','woo','in'])\n",
    "print(df)\n",
    "label1=df.loc['seo']\n",
    "position1 = df.iloc[0]\n",
    "print(label1)\n",
    "print(position1)"
   ]
  },
  {
   "cell_type": "code",
   "execution_count": 18,
   "metadata": {},
   "outputs": [
    {
     "name": "stdout",
     "output_type": "stream",
     "text": [
      "     math  eng  music   PE\n",
      "seo    90   88     99  100\n",
      "woo    80   54     42   88\n",
      "in     87   64     34   55\n",
      "     math  eng  music   PE\n",
      "seo    90   88     99  100\n",
      "woo    80   54     42   88\n",
      "     math  eng  music   PE\n",
      "seo    90   88     99  100\n",
      "woo    80   54     42   88\n"
     ]
    }
   ],
   "source": [
    "exam_data={'math':[90,80,87],'eng':[88,54,64],'music':[99,42,34],'PE':[100,88,55]}\n",
    "df= pd.DataFrame(exam_data,index=['seo','woo','in'])\n",
    "print(df)\n",
    "label2=df.loc[['seo','woo']]\n",
    "position2 = df.iloc[[0,1]]\n",
    "print(label2)\n",
    "print(position2)"
   ]
  },
  {
   "cell_type": "code",
   "execution_count": 19,
   "metadata": {},
   "outputs": [
    {
     "name": "stdout",
     "output_type": "stream",
     "text": [
      "     math  eng  music   PE\n",
      "seo    90   88     99  100\n",
      "woo    80   54     42   88\n",
      "in     87   64     34   55\n",
      "     math  eng  music   PE\n",
      "seo    90   88     99  100\n",
      "woo    80   54     42   88\n",
      "     math  eng  music   PE\n",
      "seo    90   88     99  100\n"
     ]
    }
   ],
   "source": [
    "exam_data={'math':[90,80,87],'eng':[88,54,64],'music':[99,42,34],'PE':[100,88,55]}\n",
    "df= pd.DataFrame(exam_data,index=['seo','woo','in'])\n",
    "print(df)\n",
    "label3=df.loc['seo':'woo']\n",
    "position3 = df.iloc[0:1]\n",
    "print(label3)\n",
    "print(position3)"
   ]
  },
  {
   "cell_type": "code",
   "execution_count": 20,
   "metadata": {},
   "outputs": [
    {
     "name": "stdout",
     "output_type": "stream",
     "text": [
      "  name  math  eng  music   PE\n",
      "0  seo    90   88     99  100\n",
      "1  woo    80   54     42   88\n",
      "2   in    87   64     34   55\n",
      "0    90\n",
      "1    80\n",
      "2    87\n",
      "Name: math, dtype: int64\n",
      "<class 'pandas.core.series.Series'>\n",
      "0    88\n",
      "1    54\n",
      "2    64\n",
      "Name: eng, dtype: int64\n"
     ]
    }
   ],
   "source": [
    "exam_data={'name':['seo','woo','in'],'math':[90,80,87],'eng':[88,54,64],'music':[99,42,34],'PE':[100,88,55]}\n",
    "df=pd.DataFrame(exam_data)\n",
    "print(df)\n",
    "math1 = df['math']\n",
    "print(math1)\n",
    "print(type(math1))\n",
    "eng = df.eng\n",
    "print(eng)"
   ]
  },
  {
   "cell_type": "code",
   "execution_count": 21,
   "metadata": {},
   "outputs": [
    {
     "name": "stdout",
     "output_type": "stream",
     "text": [
      "   music   PE\n",
      "0     99  100\n",
      "1     42   88\n",
      "2     34   55\n",
      "   math\n",
      "0    90\n",
      "1    80\n",
      "2    87\n"
     ]
    }
   ],
   "source": [
    "mus_gym = df[['music','PE']]\n",
    "print(mus_gym)\n",
    "math2 = df[['math']]\n",
    "print(math2)"
   ]
  },
  {
   "cell_type": "code",
   "execution_count": 22,
   "metadata": {},
   "outputs": [
    {
     "name": "stdout",
     "output_type": "stream",
     "text": [
      "      math  eng  music   PE\n",
      "name                       \n",
      "seo     90   88     99  100\n",
      "woo     80   54     42   88\n",
      "in      87   64     34   55\n"
     ]
    }
   ],
   "source": [
    "\n",
    "exam_data={'name':['seo','woo','in'],'math':[90,80,87],'eng':[88,54,64],'music':[99,42,34],'PE':[100,88,55]}\n",
    "df=pd.DataFrame(exam_data)\n",
    "df.set_index('name',inplace=True)\n",
    "print(df)"
   ]
  },
  {
   "cell_type": "code",
   "execution_count": 23,
   "metadata": {},
   "outputs": [
    {
     "name": "stdout",
     "output_type": "stream",
     "text": [
      "99\n",
      "99\n"
     ]
    }
   ],
   "source": [
    "a=df.loc['seo','music']\n",
    "print(a)\n",
    "b = df.iloc[0,2]\n",
    "print(b)"
   ]
  },
  {
   "cell_type": "code",
   "execution_count": 24,
   "metadata": {},
   "outputs": [
    {
     "ename": "SyntaxError",
     "evalue": "invalid syntax (<ipython-input-24-eadbf4d2a9d4>, line 5)",
     "output_type": "error",
     "traceback": [
      "\u001b[1;36m  File \u001b[1;32m\"<ipython-input-24-eadbf4d2a9d4>\"\u001b[1;36m, line \u001b[1;32m5\u001b[0m\n\u001b[1;33m    e=df.loc['seo',['music':'PE']]\u001b[0m\n\u001b[1;37m                           ^\u001b[0m\n\u001b[1;31mSyntaxError\u001b[0m\u001b[1;31m:\u001b[0m invalid syntax\n"
     ]
    }
   ],
   "source": [
    "c=df.loc['seo',['music','PE']]\n",
    "print(c)\n",
    "d=df.iloc[0,[2,3]]\n",
    "print(d)\n",
    "e=df.loc['seo',['music':'PE']]\n",
    "print(e)\n",
    "f=df.iloc[0,[2:]]\n",
    "print(f)"
   ]
  },
  {
   "cell_type": "code",
   "execution_count": 25,
   "metadata": {},
   "outputs": [
    {
     "name": "stdout",
     "output_type": "stream",
     "text": [
      "      music   PE\n",
      "name            \n",
      "seo      99  100\n",
      "woo      42   88\n",
      "      music   PE\n",
      "name            \n",
      "seo      99  100\n",
      "woo      42   88\n",
      "      music   PE\n",
      "name            \n",
      "seo      99  100\n",
      "woo      42   88\n",
      "      music   PE\n",
      "name            \n",
      "seo      99  100\n",
      "woo      42   88\n"
     ]
    }
   ],
   "source": [
    "g=df.loc[['seo','woo'],['music','PE']]\n",
    "print(g)\n",
    "h=df.iloc[[0,1],[2,3]]\n",
    "print(h)\n",
    "i=df.loc['seo':'woo','music':'PE']\n",
    "print(i)\n",
    "j=df.iloc[0:2,2:]\n",
    "print(j)"
   ]
  },
  {
   "cell_type": "code",
   "execution_count": 26,
   "metadata": {},
   "outputs": [
    {
     "name": "stdout",
     "output_type": "stream",
     "text": [
      "  name  math  eng  music   PE  kor\n",
      "0  seo    90   88     99  100   80\n",
      "1  woo    80   54     42   88   80\n",
      "2   in    87   64     34   55   80\n"
     ]
    }
   ],
   "source": [
    "exam_data={'name':['seo','woo','in'],'math':[90,80,87],'eng':[88,54,64],'music':[99,42,34],'PE':[100,88,55]}\n",
    "df=pd.DataFrame(exam_data)\n",
    "df['kor']=80\n",
    "print(df)"
   ]
  },
  {
   "cell_type": "code",
   "execution_count": 27,
   "metadata": {},
   "outputs": [
    {
     "name": "stdout",
     "output_type": "stream",
     "text": [
      "  name  math  eng  music   PE  kor\n",
      "0  seo    90   88     99  100   80\n",
      "1  woo    80   54     42   88   80\n",
      "2   in    87   64     34   55   80\n"
     ]
    },
    {
     "ename": "IndexError",
     "evalue": "single positional indexer is out-of-bounds",
     "output_type": "error",
     "traceback": [
      "\u001b[1;31m---------------------------------------------------------------------------\u001b[0m",
      "\u001b[1;31mIndexError\u001b[0m                                Traceback (most recent call last)",
      "\u001b[1;32m<ipython-input-27-855d133d1f58>\u001b[0m in \u001b[0;36m<module>\u001b[1;34m\u001b[0m\n\u001b[0;32m      3\u001b[0m \u001b[0mdf\u001b[0m\u001b[1;33m[\u001b[0m\u001b[1;34m'kor'\u001b[0m\u001b[1;33m]\u001b[0m\u001b[1;33m=\u001b[0m\u001b[1;36m80\u001b[0m\u001b[1;33m\u001b[0m\u001b[1;33m\u001b[0m\u001b[0m\n\u001b[0;32m      4\u001b[0m \u001b[0mprint\u001b[0m\u001b[1;33m(\u001b[0m\u001b[0mdf\u001b[0m\u001b[1;33m)\u001b[0m\u001b[1;33m\u001b[0m\u001b[1;33m\u001b[0m\u001b[0m\n\u001b[1;32m----> 5\u001b[1;33m \u001b[0mdf\u001b[0m\u001b[1;33m.\u001b[0m\u001b[0miloc\u001b[0m\u001b[1;33m[\u001b[0m\u001b[1;36m3\u001b[0m\u001b[1;33m]\u001b[0m\u001b[1;33m=\u001b[0m\u001b[1;36m0\u001b[0m\u001b[1;33m\u001b[0m\u001b[1;33m\u001b[0m\u001b[0m\n\u001b[0m\u001b[0;32m      6\u001b[0m \u001b[1;31m#df.loc[4]=['dong',99,88,77,54]\u001b[0m\u001b[1;33m\u001b[0m\u001b[1;33m\u001b[0m\u001b[1;33m\u001b[0m\u001b[0m\n\u001b[0;32m      7\u001b[0m \u001b[1;31m#df.loc['l3']=df.loc[3]\u001b[0m\u001b[1;33m\u001b[0m\u001b[1;33m\u001b[0m\u001b[1;33m\u001b[0m\u001b[0m\n",
      "\u001b[1;32m~\\Anaconda3\\lib\\site-packages\\pandas\\core\\indexing.py\u001b[0m in \u001b[0;36m__setitem__\u001b[1;34m(self, key, value)\u001b[0m\n\u001b[0;32m    187\u001b[0m         \u001b[1;32melse\u001b[0m\u001b[1;33m:\u001b[0m\u001b[1;33m\u001b[0m\u001b[1;33m\u001b[0m\u001b[0m\n\u001b[0;32m    188\u001b[0m             \u001b[0mkey\u001b[0m \u001b[1;33m=\u001b[0m \u001b[0mcom\u001b[0m\u001b[1;33m.\u001b[0m\u001b[0mapply_if_callable\u001b[0m\u001b[1;33m(\u001b[0m\u001b[0mkey\u001b[0m\u001b[1;33m,\u001b[0m \u001b[0mself\u001b[0m\u001b[1;33m.\u001b[0m\u001b[0mobj\u001b[0m\u001b[1;33m)\u001b[0m\u001b[1;33m\u001b[0m\u001b[1;33m\u001b[0m\u001b[0m\n\u001b[1;32m--> 189\u001b[1;33m         \u001b[0mindexer\u001b[0m \u001b[1;33m=\u001b[0m \u001b[0mself\u001b[0m\u001b[1;33m.\u001b[0m\u001b[0m_get_setitem_indexer\u001b[0m\u001b[1;33m(\u001b[0m\u001b[0mkey\u001b[0m\u001b[1;33m)\u001b[0m\u001b[1;33m\u001b[0m\u001b[1;33m\u001b[0m\u001b[0m\n\u001b[0m\u001b[0;32m    190\u001b[0m         \u001b[0mself\u001b[0m\u001b[1;33m.\u001b[0m\u001b[0m_setitem_with_indexer\u001b[0m\u001b[1;33m(\u001b[0m\u001b[0mindexer\u001b[0m\u001b[1;33m,\u001b[0m \u001b[0mvalue\u001b[0m\u001b[1;33m)\u001b[0m\u001b[1;33m\u001b[0m\u001b[1;33m\u001b[0m\u001b[0m\n\u001b[0;32m    191\u001b[0m \u001b[1;33m\u001b[0m\u001b[0m\n",
      "\u001b[1;32m~\\Anaconda3\\lib\\site-packages\\pandas\\core\\indexing.py\u001b[0m in \u001b[0;36m_get_setitem_indexer\u001b[1;34m(self, key)\u001b[0m\n\u001b[0;32m    173\u001b[0m \u001b[1;33m\u001b[0m\u001b[0m\n\u001b[0;32m    174\u001b[0m         \u001b[1;32mtry\u001b[0m\u001b[1;33m:\u001b[0m\u001b[1;33m\u001b[0m\u001b[1;33m\u001b[0m\u001b[0m\n\u001b[1;32m--> 175\u001b[1;33m             \u001b[1;32mreturn\u001b[0m \u001b[0mself\u001b[0m\u001b[1;33m.\u001b[0m\u001b[0m_convert_to_indexer\u001b[0m\u001b[1;33m(\u001b[0m\u001b[0mkey\u001b[0m\u001b[1;33m,\u001b[0m \u001b[0mis_setter\u001b[0m\u001b[1;33m=\u001b[0m\u001b[1;32mTrue\u001b[0m\u001b[1;33m)\u001b[0m\u001b[1;33m\u001b[0m\u001b[1;33m\u001b[0m\u001b[0m\n\u001b[0m\u001b[0;32m    176\u001b[0m         \u001b[1;32mexcept\u001b[0m \u001b[0mTypeError\u001b[0m \u001b[1;32mas\u001b[0m \u001b[0me\u001b[0m\u001b[1;33m:\u001b[0m\u001b[1;33m\u001b[0m\u001b[1;33m\u001b[0m\u001b[0m\n\u001b[0;32m    177\u001b[0m \u001b[1;33m\u001b[0m\u001b[0m\n",
      "\u001b[1;32m~\\Anaconda3\\lib\\site-packages\\pandas\\core\\indexing.py\u001b[0m in \u001b[0;36m_convert_to_indexer\u001b[1;34m(self, obj, axis, is_setter)\u001b[0m\n\u001b[0;32m   2245\u001b[0m \u001b[1;33m\u001b[0m\u001b[0m\n\u001b[0;32m   2246\u001b[0m         \u001b[1;32mtry\u001b[0m\u001b[1;33m:\u001b[0m\u001b[1;33m\u001b[0m\u001b[1;33m\u001b[0m\u001b[0m\n\u001b[1;32m-> 2247\u001b[1;33m             \u001b[0mself\u001b[0m\u001b[1;33m.\u001b[0m\u001b[0m_validate_key\u001b[0m\u001b[1;33m(\u001b[0m\u001b[0mobj\u001b[0m\u001b[1;33m,\u001b[0m \u001b[0maxis\u001b[0m\u001b[1;33m)\u001b[0m\u001b[1;33m\u001b[0m\u001b[1;33m\u001b[0m\u001b[0m\n\u001b[0m\u001b[0;32m   2248\u001b[0m             \u001b[1;32mreturn\u001b[0m \u001b[0mobj\u001b[0m\u001b[1;33m\u001b[0m\u001b[1;33m\u001b[0m\u001b[0m\n\u001b[0;32m   2249\u001b[0m         \u001b[1;32mexcept\u001b[0m \u001b[0mValueError\u001b[0m\u001b[1;33m:\u001b[0m\u001b[1;33m\u001b[0m\u001b[1;33m\u001b[0m\u001b[0m\n",
      "\u001b[1;32m~\\Anaconda3\\lib\\site-packages\\pandas\\core\\indexing.py\u001b[0m in \u001b[0;36m_validate_key\u001b[1;34m(self, key, axis)\u001b[0m\n\u001b[0;32m   2068\u001b[0m             \u001b[1;32mreturn\u001b[0m\u001b[1;33m\u001b[0m\u001b[1;33m\u001b[0m\u001b[0m\n\u001b[0;32m   2069\u001b[0m         \u001b[1;32melif\u001b[0m \u001b[0mis_integer\u001b[0m\u001b[1;33m(\u001b[0m\u001b[0mkey\u001b[0m\u001b[1;33m)\u001b[0m\u001b[1;33m:\u001b[0m\u001b[1;33m\u001b[0m\u001b[1;33m\u001b[0m\u001b[0m\n\u001b[1;32m-> 2070\u001b[1;33m             \u001b[0mself\u001b[0m\u001b[1;33m.\u001b[0m\u001b[0m_validate_integer\u001b[0m\u001b[1;33m(\u001b[0m\u001b[0mkey\u001b[0m\u001b[1;33m,\u001b[0m \u001b[0maxis\u001b[0m\u001b[1;33m)\u001b[0m\u001b[1;33m\u001b[0m\u001b[1;33m\u001b[0m\u001b[0m\n\u001b[0m\u001b[0;32m   2071\u001b[0m         \u001b[1;32melif\u001b[0m \u001b[0misinstance\u001b[0m\u001b[1;33m(\u001b[0m\u001b[0mkey\u001b[0m\u001b[1;33m,\u001b[0m \u001b[0mtuple\u001b[0m\u001b[1;33m)\u001b[0m\u001b[1;33m:\u001b[0m\u001b[1;33m\u001b[0m\u001b[1;33m\u001b[0m\u001b[0m\n\u001b[0;32m   2072\u001b[0m             \u001b[1;31m# a tuple should already have been caught by this point\u001b[0m\u001b[1;33m\u001b[0m\u001b[1;33m\u001b[0m\u001b[1;33m\u001b[0m\u001b[0m\n",
      "\u001b[1;32m~\\Anaconda3\\lib\\site-packages\\pandas\\core\\indexing.py\u001b[0m in \u001b[0;36m_validate_integer\u001b[1;34m(self, key, axis)\u001b[0m\n\u001b[0;32m   2137\u001b[0m         \u001b[0mlen_axis\u001b[0m \u001b[1;33m=\u001b[0m \u001b[0mlen\u001b[0m\u001b[1;33m(\u001b[0m\u001b[0mself\u001b[0m\u001b[1;33m.\u001b[0m\u001b[0mobj\u001b[0m\u001b[1;33m.\u001b[0m\u001b[0m_get_axis\u001b[0m\u001b[1;33m(\u001b[0m\u001b[0maxis\u001b[0m\u001b[1;33m)\u001b[0m\u001b[1;33m)\u001b[0m\u001b[1;33m\u001b[0m\u001b[1;33m\u001b[0m\u001b[0m\n\u001b[0;32m   2138\u001b[0m         \u001b[1;32mif\u001b[0m \u001b[0mkey\u001b[0m \u001b[1;33m>=\u001b[0m \u001b[0mlen_axis\u001b[0m \u001b[1;32mor\u001b[0m \u001b[0mkey\u001b[0m \u001b[1;33m<\u001b[0m \u001b[1;33m-\u001b[0m\u001b[0mlen_axis\u001b[0m\u001b[1;33m:\u001b[0m\u001b[1;33m\u001b[0m\u001b[1;33m\u001b[0m\u001b[0m\n\u001b[1;32m-> 2139\u001b[1;33m             \u001b[1;32mraise\u001b[0m \u001b[0mIndexError\u001b[0m\u001b[1;33m(\u001b[0m\u001b[1;34m\"single positional indexer is out-of-bounds\"\u001b[0m\u001b[1;33m)\u001b[0m\u001b[1;33m\u001b[0m\u001b[1;33m\u001b[0m\u001b[0m\n\u001b[0m\u001b[0;32m   2140\u001b[0m \u001b[1;33m\u001b[0m\u001b[0m\n\u001b[0;32m   2141\u001b[0m     \u001b[1;32mdef\u001b[0m \u001b[0m_getitem_tuple\u001b[0m\u001b[1;33m(\u001b[0m\u001b[0mself\u001b[0m\u001b[1;33m,\u001b[0m \u001b[0mtup\u001b[0m\u001b[1;33m)\u001b[0m\u001b[1;33m:\u001b[0m\u001b[1;33m\u001b[0m\u001b[1;33m\u001b[0m\u001b[0m\n",
      "\u001b[1;31mIndexError\u001b[0m: single positional indexer is out-of-bounds"
     ]
    }
   ],
   "source": [
    "exam_data={'name':['seo','woo','in'],'math':[90,80,87],'eng':[88,54,64],'music':[99,42,34],'PE':[100,88,55]}\n",
    "df=pd.DataFrame(exam_data)\n",
    "df['kor']=80\n",
    "print(df)\n",
    "df.iloc[3]=0\n",
    "#df.loc[4]=['dong',99,88,77,54]\n",
    "#df.loc['l3']=df.loc[3]\n",
    "print[df]"
   ]
  },
  {
   "cell_type": "code",
   "execution_count": 35,
   "metadata": {},
   "outputs": [
    {
     "name": "stdout",
     "output_type": "stream",
     "text": [
      "      math  eng  music   PE\n",
      "name                       \n",
      "seo     90   88     99  100\n",
      "woo     80   54     42   88\n",
      "in      87   64     34   55\n",
      "      math  eng  music  PE\n",
      "name                      \n",
      "seo     90   88     99  80\n",
      "woo     80   54     42  88\n",
      "in      87   64     34  55\n",
      "      math  eng  music  PE\n",
      "name                      \n",
      "seo     90   88     99  88\n",
      "woo     80   54     42  88\n",
      "in      87   64     34  55\n",
      "      math  eng  music  PE\n",
      "name                      \n",
      "seo     90   88     99  77\n",
      "woo     80   54     42  88\n",
      "in      87   64     34  55\n"
     ]
    }
   ],
   "source": [
    "exam_data={'name':['seo','woo','in'],'math':[90,80,87],'eng':[88,54,64],'music':[99,42,34],'PE':[100,88,55]}\n",
    "df=pd.DataFrame(exam_data)\n",
    "df.set_index('name',inplace=True)\n",
    "print(df)\n",
    "df.iloc[0][3]=80\n",
    "print(df)\n",
    "df.loc['seo']['PE']=88\n",
    "print(df)\n",
    "df.loc['seo','PE']=77\n",
    "print(df)"
   ]
  },
  {
   "cell_type": "code",
   "execution_count": 36,
   "metadata": {},
   "outputs": [
    {
     "name": "stdout",
     "output_type": "stream",
     "text": [
      "      math  eng  music  PE\n",
      "name                      \n",
      "seo     90   88     84  84\n",
      "woo     80   54     42  88\n",
      "in      87   64     34  55\n",
      "      math  eng  music  PE\n",
      "name                      \n",
      "seo     90   88    100  54\n",
      "woo     80   54     42  88\n",
      "in      87   64     34  55\n"
     ]
    }
   ],
   "source": [
    "df.loc['seo',['music','PE']]=84\n",
    "print(df)\n",
    "df.loc['seo',['music','PE']]=100,54\n",
    "print(df)"
   ]
  },
  {
   "cell_type": "code",
   "execution_count": 38,
   "metadata": {},
   "outputs": [
    {
     "name": "stdout",
     "output_type": "stream",
     "text": [
      "  name  math  eng  music   PE\n",
      "0  seo    90   88     99  100\n",
      "1  woo    80   54     42   88\n",
      "2   in    87   64     34   55\n",
      "         0    1   2\n",
      "name   seo  woo  in\n",
      "math    90   80  87\n",
      "eng     88   54  64\n",
      "music   99   42  34\n",
      "PE     100   88  55\n"
     ]
    }
   ],
   "source": [
    "exam_data={'name':['seo','woo','in'],'math':[90,80,87],'eng':[88,54,64],'music':[99,42,34],'PE':[100,88,55]}\n",
    "df=pd.DataFrame(exam_data)\n",
    "df.transpose()\n",
    "print(df)\n",
    "df=df.T\n",
    "print(df)"
   ]
  },
  {
   "cell_type": "code",
   "execution_count": 28,
   "metadata": {},
   "outputs": [
    {
     "name": "stdout",
     "output_type": "stream",
     "text": [
      "      math  eng  music   PE\n",
      "name                       \n",
      "seo     90   88     99  100\n",
      "woo     80   54     42   88\n",
      "in      87   64     34   55\n",
      "      name  math  eng   PE\n",
      "music                     \n",
      "99     seo    90   88  100\n",
      "42     woo    80   54   88\n",
      "34      in    87   64   55\n",
      "           name  eng   PE\n",
      "math music               \n",
      "90   99     seo   88  100\n",
      "80   42     woo   54   88\n",
      "87   34      in   64   55\n"
     ]
    }
   ],
   "source": [
    "exam_data={'name':['seo','woo','in'],'math':[90,80,87],'eng':[88,54,64],'music':[99,42,34],'PE':[100,88,55]}\n",
    "df=pd.DataFrame(exam_data)\n",
    "ndf=df.set_index(['name'])\n",
    "print(ndf)\n",
    "ndf=df.set_index(['music'])\n",
    "print(ndf)\n",
    "ndf=df.set_index(['math','music'])\n",
    "print(ndf)"
   ]
  },
  {
   "cell_type": "code",
   "execution_count": 29,
   "metadata": {},
   "outputs": [
    {
     "name": "stdout",
     "output_type": "stream",
     "text": [
      "    c0  c1  c2  c3  c4\n",
      "r0   1   4   7  10  13\n",
      "r1   2   5   8  11  14\n",
      "r2   3   6   9  12  15\n",
      "     c0   c1   c2    c3    c4\n",
      "r0  1.0  4.0  7.0  10.0  13.0\n",
      "r1  2.0  5.0  8.0  11.0  14.0\n",
      "r2  3.0  6.0  9.0  12.0  15.0\n",
      "r3  NaN  NaN  NaN   NaN   NaN\n",
      "r4  NaN  NaN  NaN   NaN   NaN\n"
     ]
    }
   ],
   "source": [
    "dict_data={'c0':[1,2,3],'c1':[4,5,6],'c2':[7,8,9],'c3':[10,11,12],'c4':[13,14,15]}\n",
    "df=pd.DataFrame(dict_data,index=['r0','r1','r2'])\n",
    "print(df)\n",
    "new_index=['r0','r1','r2','r3','r4']\n",
    "ndf=df.reindex(new_index)\n",
    "print(ndf)"
   ]
  },
  {
   "cell_type": "code",
   "execution_count": 30,
   "metadata": {},
   "outputs": [
    {
     "name": "stdout",
     "output_type": "stream",
     "text": [
      "    c0  c1  c2  c3  c4\n",
      "r0   1   4   7  10  13\n",
      "r1   2   5   8  11  14\n",
      "r2   3   6   9  12  15\n",
      "  index  c0  c1  c2  c3  c4\n",
      "0    r0   1   4   7  10  13\n",
      "1    r1   2   5   8  11  14\n",
      "2    r2   3   6   9  12  15\n"
     ]
    }
   ],
   "source": [
    "dict_data={'c0':[1,2,3],'c1':[4,5,6],'c2':[7,8,9],'c3':[10,11,12],'c4':[13,14,15]}\n",
    "df=pd.DataFrame(dict_data,index=['r0','r1','r2'])\n",
    "print(df)\n",
    "ndf=df.reset_index()\n",
    "print(ndf)"
   ]
  },
  {
   "cell_type": "code",
   "execution_count": 7,
   "metadata": {},
   "outputs": [
    {
     "name": "stdout",
     "output_type": "stream",
     "text": [
      "    c0  c1  c2  c3  c4\n",
      "r0   1   4   7  10  13\n",
      "r1   2   5   8  11  14\n",
      "r2   3   6   9  12  15\n",
      "    c0  c1  c2  c3  c4\n",
      "r2   3   6   9  12  15\n",
      "r1   2   5   8  11  14\n",
      "r0   1   4   7  10  13\n"
     ]
    }
   ],
   "source": [
    "dict_data={'c0':[1,2,3],'c1':[4,5,6],'c2':[7,8,9],'c3':[10,11,12],'c4':[13,14,15]}\n",
    "df=pd.DataFrame(dict_data,index=['r0','r1','r2'])\n",
    "print(df)\n",
    "ndf=df.sort_index(ascending=False)\n",
    "print(ndf)"
   ]
  },
  {
   "cell_type": "code",
   "execution_count": 8,
   "metadata": {},
   "outputs": [
    {
     "name": "stdout",
     "output_type": "stream",
     "text": [
      "kor     100\n",
      "eng      45\n",
      "math     98\n",
      "dtype: int64\n",
      "kor     0.500\n",
      "eng     0.225\n",
      "math    0.490\n",
      "dtype: float64\n",
      "<class 'pandas.core.series.Series'>\n"
     ]
    }
   ],
   "source": [
    "stu1=pd.Series({'kor':100,'eng':45,'math':98})\n",
    "print(stu1)\n",
    "per = stu1/200\n",
    "print(per)\n",
    "print(type(per))\n"
   ]
  },
  {
   "cell_type": "code",
   "execution_count": 31,
   "metadata": {},
   "outputs": [
    {
     "name": "stdout",
     "output_type": "stream",
     "text": [
      "kor     100\n",
      "eng      45\n",
      "math     98\n",
      "dtype: int64\n",
      "kor     14\n",
      "eng     75\n",
      "math    88\n",
      "dtype: int64\n",
      "             kor     eng         math\n",
      "add   114.000000   120.0   186.000000\n",
      "sub    86.000000   -30.0    10.000000\n",
      "mul  1400.000000  3375.0  8624.000000\n",
      "div     7.142857     0.6     1.113636\n"
     ]
    }
   ],
   "source": [
    "stu1=pd.Series({'kor':100,'eng':45,'math':98})\n",
    "stu2=pd.Series({'kor':14,'eng':75,'math':88})\n",
    "print(stu1)\n",
    "print(stu2)\n",
    "add = stu1+stu2\n",
    "sub=stu1-stu2\n",
    "mul=stu1*stu2\n",
    "div=stu1/stu2\n",
    "result=pd.DataFrame([add,sub,mul,div],index=['add','sub','mul','div'])\n",
    "print(result)"
   ]
  },
  {
   "cell_type": "code",
   "execution_count": 32,
   "metadata": {},
   "outputs": [
    {
     "name": "stdout",
     "output_type": "stream",
     "text": [
      "kor      NaN\n",
      "eng     87.0\n",
      "math    65.0\n",
      "dtype: float64\n",
      "eng     65\n",
      "math    26\n",
      "dtype: int64\n",
      "             eng  kor    math\n",
      "add   152.000000  NaN    91.0\n",
      "sub    22.000000  NaN    39.0\n",
      "mul  5655.000000  NaN  1690.0\n",
      "div     1.338462  NaN     2.5\n"
     ]
    }
   ],
   "source": [
    "import pandas as pd\n",
    "import numpy as np\n",
    "stu1 = pd.Series({'kor':np.nan,'eng':87,'math':65})\n",
    "stu2 = pd.Series({'eng':65,'math':26})\n",
    "print(stu1)\n",
    "print(stu2)\n",
    "add = stu1+stu2\n",
    "sub=stu1-stu2\n",
    "mul=stu1*stu2\n",
    "div=stu1/stu2\n",
    "result=pd.DataFrame([add,sub,mul,div],index=['add','sub','mul','div'])\n",
    "print(result)"
   ]
  },
  {
   "cell_type": "code",
   "execution_count": 33,
   "metadata": {},
   "outputs": [
    {
     "name": "stdout",
     "output_type": "stream",
     "text": [
      "kor      NaN\n",
      "eng     87.0\n",
      "math    65.0\n",
      "dtype: float64\n",
      "eng     65\n",
      "math    26\n",
      "dtype: int64\n",
      "             eng  kor    math\n",
      "add   152.000000  NaN    91.0\n",
      "sub    22.000000  NaN    39.0\n",
      "mul  5655.000000  NaN  1690.0\n",
      "div     1.338462  NaN     2.5\n"
     ]
    }
   ],
   "source": [
    "stu1 = pd.Series({'kor':np.nan,'eng':87,'math':65})\n",
    "stu2 = pd.Series({'eng':65,'math':26})\n",
    "print(stu1)\n",
    "print(stu2)\n",
    "sr_add=stu1.add(stu2,fill_value=0)\n",
    "sr_sub=stu1.sub(stu2,fill_value=0)\n",
    "sr_mul=stu1.mul(stu2,fill_value=0)\n",
    "sr_div=stu1.div(stu2,fill_value=0)\n",
    "result=pd.DataFrame([sr_add,sr_sub,sr_mul,sr_div],index=['add','sub','mul','div'])\n",
    "print(result)"
   ]
  },
  {
   "cell_type": "code",
   "execution_count": 34,
   "metadata": {},
   "outputs": [
    {
     "name": "stdout",
     "output_type": "stream",
     "text": [
      "    age     fare\n",
      "0  22.0   7.2500\n",
      "1  38.0  71.2833\n",
      "2  26.0   7.9250\n",
      "3  35.0  53.1000\n",
      "4  35.0   8.0500\n",
      "<class 'pandas.core.frame.DataFrame'>\n",
      "     age      fare\n",
      "0  122.0  107.2500\n",
      "1  138.0  171.2833\n",
      "2  126.0  107.9250\n",
      "3  135.0  153.1000\n",
      "4  135.0  108.0500\n",
      "       age    fare\n",
      "886  127.0  113.00\n",
      "887  119.0  130.00\n",
      "888    NaN  123.45\n",
      "889  126.0  130.00\n",
      "890  132.0  107.75\n",
      "       age   fare\n",
      "886  100.0  100.0\n",
      "887  100.0  100.0\n",
      "888    NaN  100.0\n",
      "889  100.0  100.0\n",
      "890  100.0  100.0\n"
     ]
    }
   ],
   "source": [
    "import seaborn as sns\n",
    "titanic = sns.load_dataset('titanic')\n",
    "df = titanic.loc[:,['age','fare']]\n",
    "print(df.head())\n",
    "print(type(df))\n",
    "add = df+100\n",
    "print(add.head())\n",
    "print(add.tail())\n",
    "subtraction = add - df\n",
    "print(subtraction.tail())"
   ]
  },
  {
   "cell_type": "code",
   "execution_count": null,
   "metadata": {},
   "outputs": [],
   "source": []
  },
  {
   "cell_type": "code",
   "execution_count": null,
   "metadata": {},
   "outputs": [],
   "source": []
  },
  {
   "cell_type": "code",
   "execution_count": null,
   "metadata": {},
   "outputs": [],
   "source": []
  },
  {
   "cell_type": "code",
   "execution_count": null,
   "metadata": {},
   "outputs": [],
   "source": []
  },
  {
   "cell_type": "code",
   "execution_count": null,
   "metadata": {},
   "outputs": [],
   "source": []
  }
 ],
 "metadata": {
  "kernelspec": {
   "display_name": "Python 3",
   "language": "python",
   "name": "python3"
  },
  "language_info": {
   "codemirror_mode": {
    "name": "ipython",
    "version": 3
   },
   "file_extension": ".py",
   "mimetype": "text/x-python",
   "name": "python",
   "nbconvert_exporter": "python",
   "pygments_lexer": "ipython3",
   "version": "3.7.3"
  }
 },
 "nbformat": 4,
 "nbformat_minor": 2
}
